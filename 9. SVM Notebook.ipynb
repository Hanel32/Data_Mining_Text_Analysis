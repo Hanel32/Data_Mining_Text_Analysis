{
 "cells": [
  {
   "cell_type": "markdown",
   "metadata": {},
   "source": [
    "Support Vector Machine in R\n",
    "----\n",
    "\n",
    "For the SVM we will use the e1071 library. Recall that SVC is the SVM with the linear kernel. Create a sample data set (two features). Plot to check the classes in y are not linearly separable.\n",
    "----"
   ]
  },
  {
   "cell_type": "code",
   "execution_count": 2,
   "metadata": {},
   "outputs": [
    {
     "name": "stderr",
     "output_type": "stream",
     "text": [
      "Warning message:\n",
      "\"package 'e1071' was built under R version 3.4.3\""
     ]
    },
    {
     "data": {
      "image/png": "[encoded data removed]",
      "text/plain": [
       "plot without title"
      ]
     },
     "metadata": {},
     "output_type": "display_data"
    }
   ],
   "source": [
    "library(e1071)\n",
    "set.seed(1)\n",
    "x=matrix(rnorm(20*2), ncol=2)\n",
    "y=c(rep(-1,10), rep(1,10))\n",
    "x[y==1,] = x[y==1,] + 1\n",
    "plot(x, col=(y+3),pch=(y+19),cex=2)"
   ]
  },
  {
   "cell_type": "markdown",
   "metadata": {},
   "source": [
    "Prepare the data (y must be a factor), load the library, and create the SVC model (linear kernel) with cost 10 (C parameter).\n",
    "----"
   ]
  },
  {
   "cell_type": "code",
   "execution_count": 11,
   "metadata": {},
   "outputs": [
    {
     "data": {
      "text/html": [
       "<table>\n",
       "<thead><tr><th scope=col>x.1</th><th scope=col>x.2</th><th scope=col>y</th></tr></thead>\n",
       "<tbody>\n",
       "\t<tr><td>-0.6264538 </td><td> 0.91897737</td><td>-1         </td></tr>\n",
       "\t<tr><td> 0.1836433 </td><td> 0.78213630</td><td>-1         </td></tr>\n",
       "\t<tr><td>-0.8356286 </td><td> 0.07456498</td><td>-1         </td></tr>\n",
       "\t<tr><td> 1.5952808 </td><td>-1.98935170</td><td>-1         </td></tr>\n",
       "\t<tr><td> 0.3295078 </td><td> 0.61982575</td><td>-1         </td></tr>\n",
       "\t<tr><td>-0.8204684 </td><td>-0.05612874</td><td>-1         </td></tr>\n",
       "\t<tr><td> 0.4874291 </td><td>-0.15579551</td><td>-1         </td></tr>\n",
       "\t<tr><td> 0.7383247 </td><td>-1.47075238</td><td>-1         </td></tr>\n",
       "\t<tr><td> 0.5757814 </td><td>-0.47815006</td><td>-1         </td></tr>\n",
       "\t<tr><td>-0.3053884 </td><td> 0.41794156</td><td>-1         </td></tr>\n",
       "\t<tr><td> 2.5117812 </td><td> 2.35867955</td><td>1          </td></tr>\n",
       "\t<tr><td> 1.3898432 </td><td> 0.89721227</td><td>1          </td></tr>\n",
       "\t<tr><td> 0.3787594 </td><td> 1.38767161</td><td>1          </td></tr>\n",
       "\t<tr><td>-1.2146999 </td><td> 0.94619496</td><td>1          </td></tr>\n",
       "\t<tr><td> 2.1249309 </td><td>-0.37705956</td><td>1          </td></tr>\n",
       "\t<tr><td> 0.9550664 </td><td> 0.58500544</td><td>1          </td></tr>\n",
       "\t<tr><td> 0.9838097 </td><td> 0.60571005</td><td>1          </td></tr>\n",
       "\t<tr><td> 1.9438362 </td><td> 0.94068660</td><td>1          </td></tr>\n",
       "\t<tr><td> 1.8212212 </td><td> 2.10002537</td><td>1          </td></tr>\n",
       "\t<tr><td> 1.5939013 </td><td> 1.76317575</td><td>1          </td></tr>\n",
       "</tbody>\n",
       "</table>\n"
      ],
      "text/latex": [
       "\\begin{tabular}{r|lll}\n",
       " x.1 & x.2 & y\\\\\n",
       "\\hline\n",
       "\t -0.6264538  &  0.91897737 & -1         \\\\\n",
       "\t  0.1836433  &  0.78213630 & -1         \\\\\n",
       "\t -0.8356286  &  0.07456498 & -1         \\\\\n",
       "\t  1.5952808  & -1.98935170 & -1         \\\\\n",
       "\t  0.3295078  &  0.61982575 & -1         \\\\\n",
       "\t -0.8204684  & -0.05612874 & -1         \\\\\n",
       "\t  0.4874291  & -0.15579551 & -1         \\\\\n",
       "\t  0.7383247  & -1.47075238 & -1         \\\\\n",
       "\t  0.5757814  & -0.47815006 & -1         \\\\\n",
       "\t -0.3053884  &  0.41794156 & -1         \\\\\n",
       "\t  2.5117812  &  2.35867955 & 1          \\\\\n",
       "\t  1.3898432  &  0.89721227 & 1          \\\\\n",
       "\t  0.3787594  &  1.38767161 & 1          \\\\\n",
       "\t -1.2146999  &  0.94619496 & 1          \\\\\n",
       "\t  2.1249309  & -0.37705956 & 1          \\\\\n",
       "\t  0.9550664  &  0.58500544 & 1          \\\\\n",
       "\t  0.9838097  &  0.60571005 & 1          \\\\\n",
       "\t  1.9438362  &  0.94068660 & 1          \\\\\n",
       "\t  1.8212212  &  2.10002537 & 1          \\\\\n",
       "\t  1.5939013  &  1.76317575 & 1          \\\\\n",
       "\\end{tabular}\n"
      ],
      "text/markdown": [
       "\n",
       "x.1 | x.2 | y | \n",
       "|---|---|---|---|---|---|---|---|---|---|---|---|---|---|---|---|---|---|---|---|\n",
       "| -0.6264538  |  0.91897737 | -1          | \n",
       "|  0.1836433  |  0.78213630 | -1          | \n",
       "| -0.8356286  |  0.07456498 | -1          | \n",
       "|  1.5952808  | -1.98935170 | -1          | \n",
       "|  0.3295078  |  0.61982575 | -1          | \n",
       "| -0.8204684  | -0.05612874 | -1          | \n",
       "|  0.4874291  | -0.15579551 | -1          | \n",
       "|  0.7383247  | -1.47075238 | -1          | \n",
       "|  0.5757814  | -0.47815006 | -1          | \n",
       "| -0.3053884  |  0.41794156 | -1          | \n",
       "|  2.5117812  |  2.35867955 | 1           | \n",
       "|  1.3898432  |  0.89721227 | 1           | \n",
       "|  0.3787594  |  1.38767161 | 1           | \n",
       "| -1.2146999  |  0.94619496 | 1           | \n",
       "|  2.1249309  | -0.37705956 | 1           | \n",
       "|  0.9550664  |  0.58500544 | 1           | \n",
       "|  0.9838097  |  0.60571005 | 1           | \n",
       "|  1.9438362  |  0.94068660 | 1           | \n",
       "|  1.8212212  |  2.10002537 | 1           | \n",
       "|  1.5939013  |  1.76317575 | 1           | \n",
       "\n",
       "\n"
      ],
      "text/plain": [
       "   x.1        x.2         y \n",
       "1  -0.6264538  0.91897737 -1\n",
       "2   0.1836433  0.78213630 -1\n",
       "3  -0.8356286  0.07456498 -1\n",
       "4   1.5952808 -1.98935170 -1\n",
       "5   0.3295078  0.61982575 -1\n",
       "6  -0.8204684 -0.05612874 -1\n",
       "7   0.4874291 -0.15579551 -1\n",
       "8   0.7383247 -1.47075238 -1\n",
       "9   0.5757814 -0.47815006 -1\n",
       "10 -0.3053884  0.41794156 -1\n",
       "11  2.5117812  2.35867955 1 \n",
       "12  1.3898432  0.89721227 1 \n",
       "13  0.3787594  1.38767161 1 \n",
       "14 -1.2146999  0.94619496 1 \n",
       "15  2.1249309 -0.37705956 1 \n",
       "16  0.9550664  0.58500544 1 \n",
       "17  0.9838097  0.60571005 1 \n",
       "18  1.9438362  0.94068660 1 \n",
       "19  1.8212212  2.10002537 1 \n",
       "20  1.5939013  1.76317575 1 "
      ]
     },
     "metadata": {},
     "output_type": "display_data"
    },
    {
     "data": {
      "text/plain": [
       "\n",
       "Call:\n",
       "svm(formula = y ~ ., data = dat, kernel = \"linear\", cost = 10, scale = F)\n",
       "\n",
       "\n",
       "Parameters:\n",
       "   SVM-Type:  C-classification \n",
       " SVM-Kernel:  linear \n",
       "       cost:  10 \n",
       "      gamma:  0.5 \n",
       "\n",
       "Number of Support Vectors:  7\n",
       "\n",
       " ( 4 3 )\n",
       "\n",
       "\n",
       "Number of Classes:  2 \n",
       "\n",
       "Levels: \n",
       " -1 1\n",
       "\n",
       "\n"
      ]
     },
     "metadata": {},
     "output_type": "display_data"
    }
   ],
   "source": [
    "dat=data.frame(x=x, y=as.factor(y))    # Creates a dataframe of x values with y as a factor/function of x\n",
    "dat                                    # Previews the dat datastructure\n",
    "svmfit=svm(y~., data=dat, kernel=\"linear\", cost=10, scale=F)\n",
    "summary(svmfit)"
   ]
  },
  {
   "cell_type": "markdown",
   "metadata": {},
   "source": [
    "There are 7 support vectors: 4 from class \"-1\" and 3 from class \"1\". Check them, then plot the model.\n",
    "----"
   ]
  },
  {
   "cell_type": "code",
   "execution_count": 12,
   "metadata": {},
   "outputs": [
    {
     "data": {
      "text/html": [
       "<ol class=list-inline>\n",
       "\t<li>1</li>\n",
       "\t<li>2</li>\n",
       "\t<li>5</li>\n",
       "\t<li>7</li>\n",
       "\t<li>14</li>\n",
       "\t<li>16</li>\n",
       "\t<li>17</li>\n",
       "</ol>\n"
      ],
      "text/latex": [
       "\\begin{enumerate*}\n",
       "\\item 1\n",
       "\\item 2\n",
       "\\item 5\n",
       "\\item 7\n",
       "\\item 14\n",
       "\\item 16\n",
       "\\item 17\n",
       "\\end{enumerate*}\n"
      ],
      "text/markdown": [
       "1. 1\n",
       "2. 2\n",
       "3. 5\n",
       "4. 7\n",
       "5. 14\n",
       "6. 16\n",
       "7. 17\n",
       "\n",
       "\n"
      ],
      "text/plain": [
       "[1]  1  2  5  7 14 16 17"
      ]
     },
     "metadata": {},
     "output_type": "display_data"
    },
    {
     "data": {
      "text/html": [
       "<table>\n",
       "<thead><tr><th></th><th scope=col>x.1</th><th scope=col>x.2</th></tr></thead>\n",
       "<tbody>\n",
       "\t<tr><th scope=row>1</th><td>-0.6264538</td><td> 0.9189774</td></tr>\n",
       "\t<tr><th scope=row>2</th><td> 0.1836433</td><td> 0.7821363</td></tr>\n",
       "\t<tr><th scope=row>5</th><td> 0.3295078</td><td> 0.6198257</td></tr>\n",
       "\t<tr><th scope=row>7</th><td> 0.4874291</td><td>-0.1557955</td></tr>\n",
       "\t<tr><th scope=row>14</th><td>-1.2146999</td><td> 0.9461950</td></tr>\n",
       "\t<tr><th scope=row>16</th><td> 0.9550664</td><td> 0.5850054</td></tr>\n",
       "\t<tr><th scope=row>17</th><td> 0.9838097</td><td> 0.6057100</td></tr>\n",
       "</tbody>\n",
       "</table>\n"
      ],
      "text/latex": [
       "\\begin{tabular}{r|ll}\n",
       "  & x.1 & x.2\\\\\n",
       "\\hline\n",
       "\t1 & -0.6264538 &  0.9189774\\\\\n",
       "\t2 &  0.1836433 &  0.7821363\\\\\n",
       "\t5 &  0.3295078 &  0.6198257\\\\\n",
       "\t7 &  0.4874291 & -0.1557955\\\\\n",
       "\t14 & -1.2146999 &  0.9461950\\\\\n",
       "\t16 &  0.9550664 &  0.5850054\\\\\n",
       "\t17 &  0.9838097 &  0.6057100\\\\\n",
       "\\end{tabular}\n"
      ],
      "text/markdown": [
       "\n",
       "| <!--/--> | x.1 | x.2 | \n",
       "|---|---|---|---|---|---|---|\n",
       "| 1 | -0.6264538 |  0.9189774 | \n",
       "| 2 |  0.1836433 |  0.7821363 | \n",
       "| 5 |  0.3295078 |  0.6198257 | \n",
       "| 7 |  0.4874291 | -0.1557955 | \n",
       "| 14 | -1.2146999 |  0.9461950 | \n",
       "| 16 |  0.9550664 |  0.5850054 | \n",
       "| 17 |  0.9838097 |  0.6057100 | \n",
       "\n",
       "\n"
      ],
      "text/plain": [
       "   x.1        x.2       \n",
       "1  -0.6264538  0.9189774\n",
       "2   0.1836433  0.7821363\n",
       "5   0.3295078  0.6198257\n",
       "7   0.4874291 -0.1557955\n",
       "14 -1.2146999  0.9461950\n",
       "16  0.9550664  0.5850054\n",
       "17  0.9838097  0.6057100"
      ]
     },
     "metadata": {},
     "output_type": "display_data"
    },
    {
     "data": {
      "text/html": [
       "<table>\n",
       "<thead><tr><th></th><th scope=col>x.1</th><th scope=col>x.2</th><th scope=col>y</th></tr></thead>\n",
       "<tbody>\n",
       "\t<tr><th scope=row>1</th><td>-0.6264538</td><td> 0.9189774</td><td>-1        </td></tr>\n",
       "\t<tr><th scope=row>2</th><td> 0.1836433</td><td> 0.7821363</td><td>-1        </td></tr>\n",
       "\t<tr><th scope=row>5</th><td> 0.3295078</td><td> 0.6198257</td><td>-1        </td></tr>\n",
       "\t<tr><th scope=row>7</th><td> 0.4874291</td><td>-0.1557955</td><td>-1        </td></tr>\n",
       "\t<tr><th scope=row>14</th><td>-1.2146999</td><td> 0.9461950</td><td>1         </td></tr>\n",
       "\t<tr><th scope=row>16</th><td> 0.9550664</td><td> 0.5850054</td><td>1         </td></tr>\n",
       "\t<tr><th scope=row>17</th><td> 0.9838097</td><td> 0.6057100</td><td>1         </td></tr>\n",
       "</tbody>\n",
       "</table>\n"
      ],
      "text/latex": [
       "\\begin{tabular}{r|lll}\n",
       "  & x.1 & x.2 & y\\\\\n",
       "\\hline\n",
       "\t1 & -0.6264538 &  0.9189774 & -1        \\\\\n",
       "\t2 &  0.1836433 &  0.7821363 & -1        \\\\\n",
       "\t5 &  0.3295078 &  0.6198257 & -1        \\\\\n",
       "\t7 &  0.4874291 & -0.1557955 & -1        \\\\\n",
       "\t14 & -1.2146999 &  0.9461950 & 1         \\\\\n",
       "\t16 &  0.9550664 &  0.5850054 & 1         \\\\\n",
       "\t17 &  0.9838097 &  0.6057100 & 1         \\\\\n",
       "\\end{tabular}\n"
      ],
      "text/markdown": [
       "\n",
       "| <!--/--> | x.1 | x.2 | y | \n",
       "|---|---|---|---|---|---|---|\n",
       "| 1 | -0.6264538 |  0.9189774 | -1         | \n",
       "| 2 |  0.1836433 |  0.7821363 | -1         | \n",
       "| 5 |  0.3295078 |  0.6198257 | -1         | \n",
       "| 7 |  0.4874291 | -0.1557955 | -1         | \n",
       "| 14 | -1.2146999 |  0.9461950 | 1          | \n",
       "| 16 |  0.9550664 |  0.5850054 | 1          | \n",
       "| 17 |  0.9838097 |  0.6057100 | 1          | \n",
       "\n",
       "\n"
      ],
      "text/plain": [
       "   x.1        x.2        y \n",
       "1  -0.6264538  0.9189774 -1\n",
       "2   0.1836433  0.7821363 -1\n",
       "5   0.3295078  0.6198257 -1\n",
       "7   0.4874291 -0.1557955 -1\n",
       "14 -1.2146999  0.9461950 1 \n",
       "16  0.9550664  0.5850054 1 \n",
       "17  0.9838097  0.6057100 1 "
      ]
     },
     "metadata": {},
     "output_type": "display_data"
    },
    {
     "data": {
      "image/png": "[encoded data removed]",
      "text/plain": [
       "Plot with title \"SVM classification plot\""
      ]
     },
     "metadata": {},
     "output_type": "display_data"
    }
   ],
   "source": [
    "svmfit$index\n",
    "svmfit$SV\n",
    "dat[svmfit$index,]\n",
    "plot(svmfit,dat)"
   ]
  },
  {
   "cell_type": "markdown",
   "metadata": {},
   "source": [
    "Region for class \"-1\" is blue, for class \"1\" is pink. Points \"x\" are the support vectors.\n",
    "----\n",
    "\n",
    "Now change the cost to 0.1. Describe the difference:\n",
    "----\n",
    "The difference is that cost 0.1 greatly overfits the data, or so it seems.\n",
    "\n",
    "The e1071 library provides a tune() function to perform cross-validation and tune the parameters.\n",
    "----"
   ]
  },
  {
   "cell_type": "code",
   "execution_count": 13,
   "metadata": {},
   "outputs": [
    {
     "data": {
      "text/plain": [
       "\n",
       "Parameter tuning of 'svm':\n",
       "\n",
       "- sampling method: 10-fold cross validation \n",
       "\n",
       "- best parameters:\n",
       " cost\n",
       "    1\n",
       "\n",
       "- best performance: 0.1 \n",
       "\n",
       "- Detailed performance results:\n",
       "   cost error dispersion\n",
       "1 1e-03  0.60  0.3944053\n",
       "2 1e-02  0.60  0.3944053\n",
       "3 1e-01  0.15  0.2415229\n",
       "4 1e+00  0.10  0.2108185\n",
       "5 1e+01  0.10  0.2108185\n",
       "6 1e+02  0.10  0.2108185\n",
       "7 1e+03  0.10  0.2108185\n"
      ]
     },
     "metadata": {},
     "output_type": "display_data"
    },
    {
     "data": {
      "text/plain": [
       "\n",
       "Call:\n",
       "best.tune(method = svm, train.x = y ~ ., data = dat, ranges = list(cost = 10^(-3:3)), \n",
       "    kernel = \"linear\")\n",
       "\n",
       "\n",
       "Parameters:\n",
       "   SVM-Type:  C-classification \n",
       " SVM-Kernel:  linear \n",
       "       cost:  1 \n",
       "      gamma:  0.5 \n",
       "\n",
       "Number of Support Vectors:  11\n",
       "\n",
       " ( 6 5 )\n",
       "\n",
       "\n",
       "Number of Classes:  2 \n",
       "\n",
       "Levels: \n",
       " -1 1\n",
       "\n",
       "\n"
      ]
     },
     "metadata": {},
     "output_type": "display_data"
    },
    {
     "data": {
      "image/png": "[encoded data removed]",
      "text/plain": [
       "Plot with title \"Performance of `svm'\""
      ]
     },
     "metadata": {},
     "output_type": "display_data"
    },
    {
     "data": {
      "image/png": "[encoded data removed]",
      "text/plain": [
       "Plot with title \"SVM classification plot\""
      ]
     },
     "metadata": {},
     "output_type": "display_data"
    }
   ],
   "source": [
    "t.out=tune(svm, y~., data=dat, kernel=\"linear\", ranges=list(cost=10^(-3:3)))\n",
    "summary(t.out)\n",
    "plot(t.out)\n",
    "best = t.out$best.model\n",
    "summary(best)\n",
    "plot(best,dat)"
   ]
  },
  {
   "cell_type": "markdown",
   "metadata": {},
   "source": [
    "The predict() function can be used to predict the class label on a set of test observations, at any given value of the cost parameter. We begin by generating a test data set.\n",
    "----"
   ]
  },
  {
   "cell_type": "code",
   "execution_count": 14,
   "metadata": {},
   "outputs": [
    {
     "data": {
      "text/plain": [
       "       truth\n",
       "predict -1  1\n",
       "     -1  4  2\n",
       "     1   3 11"
      ]
     },
     "metadata": {},
     "output_type": "display_data"
    }
   ],
   "source": [
    "xtest=matrix(rnorm(20*2), ncol=2)\n",
    "ytest=sample(c(-1,1), 20, rep=T)\n",
    "xtest[ytest==1,]=xtest[ytest==1,]+1\n",
    "testdat=data.frame(x=xtest, y=as.factor(ytest))\n",
    "ypred = predict(best, testdat)\n",
    "table(predict=ypred, truth=testdat$y)"
   ]
  },
  {
   "cell_type": "markdown",
   "metadata": {},
   "source": [
    "What if we had instead used cost=0.01?\n",
    "----"
   ]
  },
  {
   "cell_type": "code",
   "execution_count": 15,
   "metadata": {},
   "outputs": [
    {
     "data": {
      "text/plain": [
       "       truth\n",
       "predict -1  1\n",
       "     -1  6  2\n",
       "     1   1 11"
      ]
     },
     "metadata": {},
     "output_type": "display_data"
    }
   ],
   "source": [
    "svmfit=svm(y~., data=dat, kernal=\"linear\", cost=0.01, scale=F)\n",
    "ypred=predict(svmfit, testdat)\n",
    "table(predict=ypred, truth=testdat$y)"
   ]
  },
  {
   "cell_type": "markdown",
   "metadata": {},
   "source": [
    "Let us make the training data be linearly separable.\n",
    "----"
   ]
  },
  {
   "cell_type": "code",
   "execution_count": 16,
   "metadata": {},
   "outputs": [
    {
     "data": {
      "image/png": "[encoded data removed]",
      "text/plain": [
       "plot without title"
      ]
     },
     "metadata": {},
     "output_type": "display_data"
    }
   ],
   "source": [
    "x[y==1,]=x[y==1,]+0.5\n",
    "plot(x, col=(y+3), pch=(y+19), cex=2)"
   ]
  },
  {
   "cell_type": "markdown",
   "metadata": {},
   "source": [
    "Note that observations are just barely linearly separable. Let us pick cost=1e5 to avoid misclassification.\n",
    "----"
   ]
  },
  {
   "cell_type": "code",
   "execution_count": 17,
   "metadata": {},
   "outputs": [
    {
     "data": {
      "text/plain": [
       "\n",
       "Call:\n",
       "svm(formula = y ~ ., data = dat, kernel = \"linear\", cost = 1e+05)\n",
       "\n",
       "\n",
       "Parameters:\n",
       "   SVM-Type:  C-classification \n",
       " SVM-Kernel:  linear \n",
       "       cost:  1e+05 \n",
       "      gamma:  0.5 \n",
       "\n",
       "Number of Support Vectors:  3\n",
       "\n",
       " ( 1 2 )\n",
       "\n",
       "\n",
       "Number of Classes:  2 \n",
       "\n",
       "Levels: \n",
       " -1 1\n",
       "\n",
       "\n"
      ]
     },
     "metadata": {},
     "output_type": "display_data"
    },
    {
     "data": {
      "image/png": "[encoded data removed]",
      "text/plain": [
       "Plot with title \"SVM classification plot\""
      ]
     },
     "metadata": {},
     "output_type": "display_data"
    }
   ],
   "source": [
    "dat=data.frame(x=x, y=as.factor(y))\n",
    "svmfit=svm(y~., data=dat, kernel=\"linear\", cost=1e5)\n",
    "summary(svmfit)\n",
    "plot(svmfit, dat)"
   ]
  },
  {
   "cell_type": "markdown",
   "metadata": {},
   "source": [
    "Margins are too tight, the model is likely to be overfitted.\n",
    "----"
   ]
  },
  {
   "cell_type": "code",
   "execution_count": 18,
   "metadata": {},
   "outputs": [
    {
     "data": {
      "text/plain": [
       "       truth\n",
       "predict -1 1\n",
       "     -1  5 6\n",
       "     1   2 7"
      ]
     },
     "metadata": {},
     "output_type": "display_data"
    }
   ],
   "source": [
    "ypred=predict(svmfit, testdat)\n",
    "table(predict=ypred, truth=testdat$y)"
   ]
  },
  {
   "cell_type": "markdown",
   "metadata": {},
   "source": [
    "Check the difference if cost=1\n",
    "----"
   ]
  },
  {
   "cell_type": "code",
   "execution_count": 19,
   "metadata": {},
   "outputs": [
    {
     "data": {
      "text/plain": [
       "\n",
       "Call:\n",
       "svm(formula = y ~ ., data = dat, kernel = \"linear\", cost = 1)\n",
       "\n",
       "\n",
       "Parameters:\n",
       "   SVM-Type:  C-classification \n",
       " SVM-Kernel:  linear \n",
       "       cost:  1 \n",
       "      gamma:  0.5 \n",
       "\n",
       "Number of Support Vectors:  7\n",
       "\n",
       " ( 4 3 )\n",
       "\n",
       "\n",
       "Number of Classes:  2 \n",
       "\n",
       "Levels: \n",
       " -1 1\n",
       "\n",
       "\n"
      ]
     },
     "metadata": {},
     "output_type": "display_data"
    },
    {
     "data": {
      "image/png": "[encoded data removed]",
      "text/plain": [
       "Plot with title \"SVM classification plot\""
      ]
     },
     "metadata": {},
     "output_type": "display_data"
    }
   ],
   "source": [
    "svmfit=svm(y~., data=dat, kernel=\"linear\", cost=1)\n",
    "summary(svmfit)\n",
    "plot(svmfit, dat)"
   ]
  },
  {
   "cell_type": "markdown",
   "metadata": {},
   "source": [
    "Which model is doing a better job?\n",
    "----\n",
    "\n",
    "Support Vector Machines w/ Radial Kernels\n",
    "----\n",
    "To fit an SVM with a polynomial kernel, we use kernel=\"polynomial\", and to fit an SVM with a radial kernel we use kernel=\"radial\". In the former case, we also use the degree argument to specify a degree for the polynomial kernel, and in the latter case we use gamma to specify a value of gamma for the radial basis kernel.\n",
    "\n",
    "First generate some data with a non-linear class boundary, as follows:\n",
    "----"
   ]
  },
  {
   "cell_type": "code",
   "execution_count": 20,
   "metadata": {},
   "outputs": [
    {
     "data": {
      "image/png": "[encoded data removed]",
      "text/plain": [
       "plot without title"
      ]
     },
     "metadata": {},
     "output_type": "display_data"
    }
   ],
   "source": [
    "set.seed(1)\n",
    "x=matrix(rnorm(200*2), ncol=2)\n",
    "x[1:100,] = x[1:100,]+2\n",
    "x[101:150,]=x[101:150,]-2\n",
    "y=c(rep(-1,150), rep(1,50))\n",
    "dat=data.frame(x=x, y=as.factor(y))\n",
    "plot(x, col=(y+3), pch=(y+19), cex=2)"
   ]
  },
  {
   "cell_type": "markdown",
   "metadata": {},
   "source": [
    "The data is randomly split into training and test groups. We then fit the training data using the svm() function with a radial kernel and gamma=1:\n",
    "----"
   ]
  },
  {
   "cell_type": "code",
   "execution_count": 21,
   "metadata": {},
   "outputs": [
    {
     "data": {
      "image/png": "[encoded data removed]",
      "text/plain": [
       "Plot with title \"SVM classification plot\""
      ]
     },
     "metadata": {},
     "output_type": "display_data"
    }
   ],
   "source": [
    "train=sample(200,100)\n",
    "svm.radial=svm(y~., data=dat[train,], kernal=\"radial\", gamma=1, cost=1)\n",
    "plot(svm.radial, dat[train,])"
   ]
  },
  {
   "cell_type": "markdown",
   "metadata": {},
   "source": [
    "Find the best gamma and cost:\n",
    "----"
   ]
  },
  {
   "cell_type": "code",
   "execution_count": 22,
   "metadata": {},
   "outputs": [
    {
     "data": {
      "text/plain": [
       "\n",
       "Parameter tuning of 'svm':\n",
       "\n",
       "- sampling method: 10-fold cross validation \n",
       "\n",
       "- best parameters:\n",
       " lost gamma\n",
       "  0.1     2\n",
       "\n",
       "- best performance: 0.12 \n",
       "\n",
       "- Detailed performance results:\n",
       "    lost gamma error dispersion\n",
       "1    0.1   0.5  0.13 0.08232726\n",
       "2    1.0   0.5  0.13 0.08232726\n",
       "3   10.0   0.5  0.13 0.08232726\n",
       "4  100.0   0.5  0.13 0.08232726\n",
       "5    0.1   1.0  0.13 0.08232726\n",
       "6    1.0   1.0  0.13 0.08232726\n",
       "7   10.0   1.0  0.13 0.08232726\n",
       "8  100.0   1.0  0.13 0.08232726\n",
       "9    0.1   2.0  0.12 0.09189366\n",
       "10   1.0   2.0  0.12 0.09189366\n",
       "11  10.0   2.0  0.12 0.09189366\n",
       "12 100.0   2.0  0.12 0.09189366\n",
       "13   0.1   3.0  0.13 0.09486833\n",
       "14   1.0   3.0  0.13 0.09486833\n",
       "15  10.0   3.0  0.13 0.09486833\n",
       "16 100.0   3.0  0.13 0.09486833\n",
       "17   0.1   4.0  0.15 0.10801234\n",
       "18   1.0   4.0  0.15 0.10801234\n",
       "19  10.0   4.0  0.15 0.10801234\n",
       "20 100.0   4.0  0.15 0.10801234\n"
      ]
     },
     "metadata": {},
     "output_type": "display_data"
    },
    {
     "data": {
      "text/plain": [
       "       truth\n",
       "predict -1  1\n",
       "     -1 74  7\n",
       "     1   3 16"
      ]
     },
     "metadata": {},
     "output_type": "display_data"
    }
   ],
   "source": [
    "set.seed(1)\n",
    "tune.out=tune(svm, y~., data=dat[train,], kernal = \"radial\", ranges=list(lost=10^(-1:2), gamma=c(0.5, 1:4)))\n",
    "summary(tune.out)\n",
    "ypred=predict(tune.out$best.model, newdata=dat[-train,])\n",
    "table(predict=ypred, truth=dat[-train, \"y\"])"
   ]
  },
  {
   "cell_type": "markdown",
   "metadata": {},
   "source": [
    "The data is randomly split into training and testing groups. We then fit the training data using the svm() function with a radial kernel and gamma=1:\n",
    "----"
   ]
  },
  {
   "cell_type": "code",
   "execution_count": 23,
   "metadata": {},
   "outputs": [
    {
     "data": {
      "image/png": "[encoded data removed]",
      "text/plain": [
       "Plot with title \"SVM classification plot\""
      ]
     },
     "metadata": {},
     "output_type": "display_data"
    }
   ],
   "source": [
    "svm.poly=svm(y~., data=dat[train,], kernel=\"polynomial\", degree=2, cost=1)\n",
    "plot(svm.poly, dat[train,])"
   ]
  },
  {
   "cell_type": "markdown",
   "metadata": {},
   "source": [
    "Find the best degree and cost:\n",
    "----"
   ]
  },
  {
   "cell_type": "code",
   "execution_count": 24,
   "metadata": {},
   "outputs": [
    {
     "data": {
      "text/plain": [
       "\n",
       "Parameter tuning of 'svm':\n",
       "\n",
       "- sampling method: 10-fold cross validation \n",
       "\n",
       "- best parameters:\n",
       " cost degree\n",
       "   10      4\n",
       "\n",
       "- best performance: 0.15 \n",
       "\n",
       "- Detailed performance results:\n",
       "    cost degree error dispersion\n",
       "1    0.1      1  0.27  0.1159502\n",
       "2    1.0      1  0.27  0.1159502\n",
       "3   10.0      1  0.27  0.1159502\n",
       "4  100.0      1  0.27  0.1159502\n",
       "5    0.1      2  0.27  0.1159502\n",
       "6    1.0      2  0.17  0.1251666\n",
       "7   10.0      2  0.16  0.1264911\n",
       "8  100.0      2  0.16  0.1264911\n",
       "9    0.1      3  0.27  0.1159502\n",
       "10   1.0      3  0.27  0.1159502\n",
       "11  10.0      3  0.27  0.1159502\n",
       "12 100.0      3  0.27  0.1159502\n",
       "13   0.1      4  0.27  0.1159502\n",
       "14   1.0      4  0.20  0.1563472\n",
       "15  10.0      4  0.15  0.1178511\n",
       "16 100.0      4  0.18  0.1135292\n"
      ]
     },
     "metadata": {},
     "output_type": "display_data"
    },
    {
     "data": {
      "text/plain": [
       "       truth\n",
       "predict -1  1\n",
       "     -1 66  2\n",
       "     1  11 21"
      ]
     },
     "metadata": {},
     "output_type": "display_data"
    }
   ],
   "source": [
    "set.seed(1)\n",
    "tune.out=tune(svm, y~., data=dat[train,], kernel=\"polynomial\", ranges=list(cost=10^(-1:2), degree=(1:4)))\n",
    "summary(tune.out)\n",
    "ypred=predict(tune.out$best.model, newdata=dat[-train,])\n",
    "table(predict=ypred, truth=dat[-train,\"y\"])"
   ]
  },
  {
   "cell_type": "markdown",
   "metadata": {
    "collapsed": true
   },
   "source": [
    "ROC Curves\n",
    "----\n",
    "The ROCR package can be used to produce ROC curves. First, write a short function to plot an ROC curve given a vector containing a numerical score for each observation, pred, and a vector containing the class label for each observation, truth."
   ]
  },
  {
   "cell_type": "code",
   "execution_count": 50,
   "metadata": {},
   "outputs": [],
   "source": [
    "#install.packages(\"ROCR\", repos='http://cran.us.r-project.org')\n",
    "library(ROCR)\n",
    "\n",
    "rocplot=function(pred, truth, ...){ \n",
    "    predob=prediction(pred, truth)\n",
    "    perf=performance(predob, \"tpr\", \"fpr\")\n",
    "    plot(perf,...)}"
   ]
  },
  {
   "cell_type": "markdown",
   "metadata": {},
   "source": [
    "In order to obtain the fitted values for a given SVM model fit, we used decision.values=T when fitting svm(). Then the predict() function will output the fitted values.\n",
    "----"
   ]
  },
  {
   "cell_type": "code",
   "execution_count": 177,
   "metadata": {
    "collapsed": true
   },
   "outputs": [],
   "source": [
    "svmfit.opt=svm(y~., data=dat[train,], kernel=\"radial\", gamma=2, cost=1, decision.values=T)\n",
    "fitted = attributes(predict(svmfit.opt, dat[train,], decision.values=T))$decision.values"
   ]
  },
  {
   "cell_type": "markdown",
   "metadata": {},
   "source": [
    "Now we can produce the ROC plot:\n",
    "----"
   ]
  },
  {
   "cell_type": "code",
   "execution_count": 178,
   "metadata": {},
   "outputs": [
    {
     "data": {
      "image/png": "[encoded data removed]",
      "text/plain": [
       "Plot with title \"Training Data\""
      ]
     },
     "metadata": {},
     "output_type": "display_data"
    }
   ],
   "source": [
    "par(mfrow = c(1,2))\n",
    "rocplot(fitted, dat[train, \"y\"], main=\"Training Data\")"
   ]
  },
  {
   "cell_type": "markdown",
   "metadata": {},
   "source": [
    "SVM appears to be producing accurate predictions. By increasing gamma we can produce a more flexible fit and generate futher improvements in accuracy.\n",
    "----"
   ]
  },
  {
   "cell_type": "code",
   "execution_count": 179,
   "metadata": {},
   "outputs": [],
   "source": [
    "svmfit.flex=svm(y~.,data=dat[train,],kernel=\"radial\",gamma=50,cost=1,decision.values=T)\n",
    "fitted = attributes(predict(svmfit.flex,dat[train,],decision.values=T))$decision.values"
   ]
  },
  {
   "cell_type": "code",
   "execution_count": 192,
   "metadata": {
    "scrolled": false
   },
   "outputs": [
    {
     "data": {
      "image/png": "[encoded data removed]",
      "text/plain": [
       "Plot with title \"Flex Fit ROC\""
      ]
     },
     "metadata": {},
     "output_type": "display_data"
    }
   ],
   "source": [
    "rocplot(fitted, dat[train, \"y\"], main = \"Flex Fit ROC\",col=\"red\")"
   ]
  },
  {
   "cell_type": "markdown",
   "metadata": {},
   "source": [
    "Those ROC plots are all on the testing data. Now, lets fit to the training data.\n",
    "----"
   ]
  },
  {
   "cell_type": "code",
   "execution_count": 183,
   "metadata": {},
   "outputs": [
    {
     "data": {
      "image/png": "[encoded data removed]",
      "text/plain": [
       "Plot with title \"Test Data\""
      ]
     },
     "metadata": {},
     "output_type": "display_data"
    }
   ],
   "source": [
    "fitted=attributes(predict(svmfit.opt, dat[-train,], decision.values=T))$decision.values\n",
    "rocplot(fitted, dat[-train, \"y\"], main=\"Test Data\")"
   ]
  },
  {
   "cell_type": "code",
   "execution_count": 190,
   "metadata": {},
   "outputs": [
    {
     "data": {
      "image/png": "[encoded data removed]",
      "text/plain": [
       "plot without title"
      ]
     },
     "metadata": {},
     "output_type": "display_data"
    }
   ],
   "source": [
    "fitted=attributes(predict(svmfit.flex, dat[-train,], decision.values=T))$decision.values\n",
    "rocplot(fitted, dat[-train, \"y\"], col=\"red\")"
   ]
  },
  {
   "cell_type": "markdown",
   "metadata": {},
   "source": [
    "SVM with Multiple Classes\n",
    "----\n",
    "If the response is a factor containing more than two levels, then the svm() function will perform a multi-class classification using the one-versus-one approach. We explored that setting here by generating a third class of observations."
   ]
  },
  {
   "cell_type": "code",
   "execution_count": 193,
   "metadata": {},
   "outputs": [
    {
     "data": {
      "image/png": "[encoded data removed]",
      "text/plain": [
       "plot without title"
      ]
     },
     "metadata": {},
     "output_type": "display_data"
    },
    {
     "data": {
      "image/png": "[encoded data removed]",
      "text/plain": [
       "Plot with title \"SVM classification plot\""
      ]
     },
     "metadata": {},
     "output_type": "display_data"
    }
   ],
   "source": [
    "set.seed(1)\n",
    "x=rbind(x, matrix(rnorm(50*2), ncol=2))\n",
    "y=c(y, rep(0,50))\n",
    "x[y==0,2]=x[y==0,2]+2\n",
    "dat = data.frame(x=x, y=as.factor(y))\n",
    "par(mfrow=c(1,1))\n",
    "plot(x, col=(y+1))\n",
    "\n",
    "# Now, fit the SVM to the data\n",
    "svmfit = svm(y~., data=dat, kernel=\"radial\", cost=10, gamma=1)\n",
    "plot(svmfit, dat)"
   ]
  },
  {
   "cell_type": "markdown",
   "metadata": {},
   "source": [
    "Application to Gene Expression data:\n",
    "----"
   ]
  },
  {
   "cell_type": "markdown",
   "metadata": {},
   "source": [
    "We now examine the Khan data set, which consists of a number of tissue samples corresponding to four distinct types of small round blue cell tumors. For each tissue sample, gene expression measurements are available. The data set consists of training data, xtrain and ytrain, and testing data, xtest and ytest."
   ]
  },
  {
   "cell_type": "code",
   "execution_count": 196,
   "metadata": {},
   "outputs": [
    {
     "name": "stderr",
     "output_type": "stream",
     "text": [
      "Warning message:\n",
      "\"package 'ISLR' was built under R version 3.4.3\""
     ]
    },
    {
     "data": {
      "text/html": [
       "<ol class=list-inline>\n",
       "\t<li>'xtrain'</li>\n",
       "\t<li>'xtest'</li>\n",
       "\t<li>'ytrain'</li>\n",
       "\t<li>'ytest'</li>\n",
       "</ol>\n"
      ],
      "text/latex": [
       "\\begin{enumerate*}\n",
       "\\item 'xtrain'\n",
       "\\item 'xtest'\n",
       "\\item 'ytrain'\n",
       "\\item 'ytest'\n",
       "\\end{enumerate*}\n"
      ],
      "text/markdown": [
       "1. 'xtrain'\n",
       "2. 'xtest'\n",
       "3. 'ytrain'\n",
       "4. 'ytest'\n",
       "\n",
       "\n"
      ],
      "text/plain": [
       "[1] \"xtrain\" \"xtest\"  \"ytrain\" \"ytest\" "
      ]
     },
     "metadata": {},
     "output_type": "display_data"
    },
    {
     "data": {
      "text/html": [
       "<ol class=list-inline>\n",
       "\t<li>63</li>\n",
       "\t<li>2308</li>\n",
       "</ol>\n"
      ],
      "text/latex": [
       "\\begin{enumerate*}\n",
       "\\item 63\n",
       "\\item 2308\n",
       "\\end{enumerate*}\n"
      ],
      "text/markdown": [
       "1. 63\n",
       "2. 2308\n",
       "\n",
       "\n"
      ],
      "text/plain": [
       "[1]   63 2308"
      ]
     },
     "metadata": {},
     "output_type": "display_data"
    },
    {
     "data": {
      "text/html": [
       "<ol class=list-inline>\n",
       "\t<li>20</li>\n",
       "\t<li>2308</li>\n",
       "</ol>\n"
      ],
      "text/latex": [
       "\\begin{enumerate*}\n",
       "\\item 20\n",
       "\\item 2308\n",
       "\\end{enumerate*}\n"
      ],
      "text/markdown": [
       "1. 20\n",
       "2. 2308\n",
       "\n",
       "\n"
      ],
      "text/plain": [
       "[1]   20 2308"
      ]
     },
     "metadata": {},
     "output_type": "display_data"
    },
    {
     "data": {
      "text/html": [
       "63"
      ],
      "text/latex": [
       "63"
      ],
      "text/markdown": [
       "63"
      ],
      "text/plain": [
       "[1] 63"
      ]
     },
     "metadata": {},
     "output_type": "display_data"
    },
    {
     "data": {
      "text/html": [
       "20"
      ],
      "text/latex": [
       "20"
      ],
      "text/markdown": [
       "20"
      ],
      "text/plain": [
       "[1] 20"
      ]
     },
     "metadata": {},
     "output_type": "display_data"
    }
   ],
   "source": [
    "library(ISLR)\n",
    "names(Khan)\n",
    "dim(Khan$xtrain)\n",
    "dim(Khan$xtest)\n",
    "length(Khan$ytrain)\n",
    "length(Khan$ytest)"
   ]
  },
  {
   "cell_type": "markdown",
   "metadata": {},
   "source": [
    "This data set consists of expression measurements for 2,308 genes. The training and test sets consist of 63 and 20 observations, respectively.\n",
    "----"
   ]
  },
  {
   "cell_type": "code",
   "execution_count": 197,
   "metadata": {},
   "outputs": [
    {
     "data": {
      "text/plain": [
       "\n",
       " 1  2  3  4 \n",
       " 8 23 12 20 "
      ]
     },
     "metadata": {},
     "output_type": "display_data"
    },
    {
     "data": {
      "text/plain": [
       "\n",
       "1 2 3 4 \n",
       "3 6 6 5 "
      ]
     },
     "metadata": {},
     "output_type": "display_data"
    }
   ],
   "source": [
    "table(Khan$ytrain)\n",
    "table(Khan$ytest)"
   ]
  },
  {
   "cell_type": "markdown",
   "metadata": {},
   "source": [
    "In this data set, there are a very large number of features relative to the number of observations. This suggests that we should use a linear kernel. The additional flexibility from using a polynomial or radial kernel is unnecessary.\n",
    "----"
   ]
  },
  {
   "cell_type": "code",
   "execution_count": 198,
   "metadata": {},
   "outputs": [
    {
     "data": {
      "text/plain": [
       "\n",
       "Call:\n",
       "svm(formula = y ~ ., data = dat, kernel = \"linear\", cost = 10)\n",
       "\n",
       "\n",
       "Parameters:\n",
       "   SVM-Type:  C-classification \n",
       " SVM-Kernel:  linear \n",
       "       cost:  10 \n",
       "      gamma:  0.0004332756 \n",
       "\n",
       "Number of Support Vectors:  58\n",
       "\n",
       " ( 20 20 11 7 )\n",
       "\n",
       "\n",
       "Number of Classes:  4 \n",
       "\n",
       "Levels: \n",
       " 1 2 3 4\n",
       "\n",
       "\n"
      ]
     },
     "metadata": {},
     "output_type": "display_data"
    },
    {
     "data": {
      "text/plain": [
       "   \n",
       "     1  2  3  4\n",
       "  1  8  0  0  0\n",
       "  2  0 23  0  0\n",
       "  3  0  0 12  0\n",
       "  4  0  0  0 20"
      ]
     },
     "metadata": {},
     "output_type": "display_data"
    }
   ],
   "source": [
    "dat=data.frame(x=Khan$xtrain, y=as.factor(Khan$ytrain))\n",
    "out=svm(y~., data=dat, kernel=\"linear\", cost=10)\n",
    "summary(out)\n",
    "table(out$fitted, dat$y)"
   ]
  },
  {
   "cell_type": "markdown",
   "metadata": {},
   "source": [
    "As you can see, there are no training errors.\n",
    "----"
   ]
  }
 ],
 "metadata": {
  "kernelspec": {
   "display_name": "R",
   "language": "R",
   "name": "ir"
  },
  "language_info": {
   "codemirror_mode": "r",
   "file_extension": ".r",
   "mimetype": "text/x-r-source",
   "name": "R",
   "pygments_lexer": "r",
   "version": "3.4.2"
  }
 },
 "nbformat": 4,
 "nbformat_minor": 2
}
